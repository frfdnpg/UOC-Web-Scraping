{
 "cells": [
  {
   "cell_type": "code",
   "execution_count": 1,
   "metadata": {},
   "outputs": [
    {
     "name": "stderr",
     "output_type": "stream",
     "text": [
      "usage: ipykernel_launcher.py [-h] [--startDate STARTDATE] [--endDate ENDDATE]\n",
      "ipykernel_launcher.py: error: unrecognized arguments: -f /Users/frfdnpg/Library/Jupyter/runtime/kernel-9f4a4694-e517-4446-906e-10efa256ffd2.json\n"
     ]
    },
    {
     "ename": "SystemExit",
     "evalue": "2",
     "output_type": "error",
     "traceback": [
      "An exception has occurred, use %tb to see the full traceback.\n",
      "\u001b[0;31mSystemExit\u001b[0m\u001b[0;31m:\u001b[0m 2\n"
     ]
    },
    {
     "name": "stderr",
     "output_type": "stream",
     "text": [
      "/Users/frfdnpg/anaconda2/lib/python2.7/site-packages/IPython/core/interactiveshell.py:2886: UserWarning: To exit: use 'exit', 'quit', or Ctrl-D.\n",
      "  warn(\"To exit: use 'exit', 'quit', or Ctrl-D.\", stacklevel=1)\n"
     ]
    }
   ],
   "source": [
    "import os\n",
    "import requests\n",
    "import csv\n",
    "import argparse\n",
    "from datetime import datetime\n",
    "from datetime import timedelta\n",
    "from bs4 import BeautifulSoup\n",
    "#Parse command line arguments\n",
    "parser = argparse.ArgumentParser()\n",
    "parser.add_argument(\"--startDate\", help=\"Enter start date of interval\")\n",
    "parser.add_argument(\"--endDate\", help=\"Enter end date of interval\")\n",
    "args = parser.parse_args()\n",
    "#Function to get prices of webpage\n",
    "def queryPrices( queryURL, paramsValues,headersValues,elementList,date2Filter ):\n",
    "  paramsValues['fecha']=date2Filter\n",
    "  response= requests.post(queryURL, data = paramsValues, headers=headersValues)\n",
    "  soup = BeautifulSoup(response.text,\"html.parser\")\n",
    "  table=soup.find('table');\n",
    "  currentIndex=0\n",
    "  for row in table.findAll(\"tr\"):\n",
    "    cells = row.findAll('td')\n",
    "    if (currentIndex > 0):\n",
    "      #This is because exists rowspan, if not use the previous category\n",
    "      if len(cells)==5:\n",
    "        category=cells[0].find(text=True)\n",
    "        product=cells[1].find(text=True)\n",
    "        minPrice=cells[2].find(text=True)\n",
    "        avgPrice=cells[3].find(text=True)\n",
    "        maxPrice=cells[4].find(text=True)\n",
    "      else:\n",
    "        product=cells[0].find(text=True)\n",
    "        minPrice=cells[1].find(text=True)\n",
    "        avgPrice=cells[2].find(text=True)\n",
    "        maxPrice=cells[3].find(text=True)\n",
    "      element=[date2Filter,category,product,minPrice,avgPrice,maxPrice]\n",
    "      elementList.append(element)\n",
    "    currentIndex=currentIndex+1\n",
    "  return\n",
    "#Current directory where is located the script\n",
    "currentDir = os.path.dirname(__file__)\n",
    "filename = \"food_prices_dataset2.csv\"\n",
    "filePath = os.path.join(currentDir, filename)\n",
    "sisapUrl=\"http://sistemas.minag.gob.pe/sisap/portal2/mayorista/resumenes/filtrar\"\n",
    "currentDate=''\n",
    "headerValues={}\n",
    "formData={}\n",
    "#Set the header values of HTTP Request\n",
    "headerValues['Origin']='http://sistemas.minag.gob.pe'\n",
    "headerValues['Referer']='http://sistemas.minag.gob.pe/sisap/portal2/mayorista/'\n",
    "headerValues['Content-Type']='application/x-www-form-urlencoded'\n",
    "headerValues['X-Requested-With']='XMLHttpRequest'\n",
    "headerValues['x-elastica_gw']='2.43.0'\n",
    "#Set the POST values of HTTP Request\n",
    "formData['mercado']='*'\n",
    "formData['desde']='01/11/2017'\n",
    "formData['hasta']='08/11/2017'\n",
    "formData['periodicidad']='dia'\n",
    "formData['ajax']='true'\n",
    "formData['__ajax_carga_final']='consulta'\n",
    "formData['fecha']='08/11/2017'\n",
    "formData['variables[0]']='precio_min'\n",
    "formData['variables[1]']='precio_prom'\n",
    "formData['variables[2]']='precio_max'\n",
    "formData['productos[0]']='0104'#Papa\n",
    "formData['productos[1]']='0611'#Limon\n",
    "formData['productos[2]']='1001'#Aceite\n",
    "formData['productos[3]']='0204'#Ajo\n",
    "formData['productos[4]']='0207'#Apio\n",
    "formData['productos[5]']='0401'#Arroz\n",
    "formData['productos[6]']='1005'#Azucar\n",
    "formData['productos[7]']='0212'#Cebolla\n",
    "formData['productos[8]']='1105'#Huevos\n",
    "formData['productos[9]']='1104'#Leche\n",
    "formData['productos[10]']='1301'#Pollo\n",
    "formData['productos[11]']='0228'#Tomate\n",
    "formData['productos[11]']='0105'#Yuca\n",
    "formData['productos[11]']='0230'#Zanahoria\n",
    "#Set the startDate and endDate\n",
    "startDate = datetime.strptime(args.startDate, \"%d/%m/%Y\")\n",
    "endDate = datetime.strptime(args.endDate,\"%d/%m/%Y\")\n",
    "priceList=[]\n",
    "headerList=[\"Fecha\",\"Producto\",\"Variedad\",\"Precio Mínimo\",\"Precio Promedio\",\"Precio Máximo\"]\n",
    "priceList.append(headerList)\n",
    "while startDate <= endDate:\n",
    "  currentDate = startDate.strftime('%d/%m/%Y')\n",
    "  print (\"Generating dataset of %s\" %  currentDate)\n",
    "  queryPrices(sisapUrl,formData,headerValues,priceList,currentDate)\n",
    "  startDate = startDate + timedelta(days=1) \n",
    "\n",
    "with open(filePath, 'w', newline='') as csvFile:\n",
    "  writer = csv.writer(csvFile)\n",
    "  for priceElement in priceList:\n",
    "    writer.writerow(priceElement)"
   ]
  },
  {
   "cell_type": "code",
   "execution_count": null,
   "metadata": {},
   "outputs": [],
   "source": []
  }
 ],
 "metadata": {
  "kernelspec": {
   "display_name": "Python 2",
   "language": "python",
   "name": "python2"
  }
 },
 "nbformat": 4,
 "nbformat_minor": 2
}
