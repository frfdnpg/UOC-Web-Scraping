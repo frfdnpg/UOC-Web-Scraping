{
 "cells": [
  {
   "cell_type": "code",
   "execution_count": 115,
   "metadata": {},
   "outputs": [],
   "source": [
    "# import os\n",
    "import requests\n",
    "# import csv\n",
    "from bs4 import BeautifulSoup\n",
    "import collections\n",
    "import itertools\n"
   ]
  },
  {
   "cell_type": "code",
   "execution_count": 116,
   "metadata": {},
   "outputs": [],
   "source": [
    "url_analisis = 'https://www.codigospostales.com/'\n",
    "peticion = requests.get(url_analisis)"
   ]
  },
  {
   "cell_type": "code",
   "execution_count": 117,
   "metadata": {},
   "outputs": [],
   "source": [
    "soup = BeautifulSoup(peticion.text, 'html.parser')"
   ]
  },
  {
   "cell_type": "code",
   "execution_count": 118,
   "metadata": {},
   "outputs": [],
   "source": [
    "list_provincias = []\n",
    "for soup.fieldset.li in soup.find_all('li'):\n",
    "    provincia = soup.fieldset.li.text\n",
    "    list_provincias.append(provincia)\n",
    "    "
   ]
  },
  {
   "cell_type": "code",
   "execution_count": 119,
   "metadata": {},
   "outputs": [
    {
     "name": "stdout",
     "output_type": "stream",
     "text": [
      "[u'01 Araba/\\xc3\\x81lava', u'02 Albacete', u'03 Alicante', u'04 Almer\\xc3\\xada', u'05 \\xc3\\x81vila', u'06 Badajoz', u'07 Illes Balears', u'08 Barcelona', u'09 Burgos', u'10 C\\xc3\\xa1ceres', u'11 C\\xc3\\xa1diz', u'12 Castell\\xc3\\xb3n', u'13 Ciudad Real', u'14 C\\xc3\\xb3rdoba', u'15 Coru\\xc3\\xb1a', u'16 Cuenca', u'17 Girona', u'18 Granada', u'19 Guadalajara', u'20 Gipuzkoa', u'21 Huelva', u'22 Huesca', u'23 Ja\\xc3\\xa9n', u'24 Le\\xc3\\xb3n', u'25 Lleida', u'26 La Rioja', u'27 Lugo', u'28 Madrid', u'29 M\\xc3\\xa1laga', u'30 Murcia', u'31 Navarra', u'32 Ourense', u'33 Asturias', u'34 Palencia', u'35 Las Palmas', u'36 Pontevedra', u'37 Salamanca', u'38 S.C. Tenerife', u'39 Cantabria', u'40 Segovia', u'41 Sevilla', u'42 Soria', u'43 Tarragona', u'44 Teruel', u'45 Toledo', u'46 Valencia', u'47 Valladolid', u'48 Bizkaia', u'49 Zamora', u'50 Zaragoza', u'51 Ceuta', u'52 Melilla']\n"
     ]
    }
   ],
   "source": [
    "print(list_provincias)"
   ]
  },
  {
   "cell_type": "code",
   "execution_count": 132,
   "metadata": {
    "scrolled": true
   },
   "outputs": [
    {
     "name": "stdout",
     "output_type": "stream",
     "text": [
      "[[u'01', u'Araba/\\xc3\\x81lava'], [u'02', u'Albacete'], [u'03', u'Alicante'], [u'04', u'Almer\\xc3\\xada'], [u'05', u'\\xc3\\x81vila'], [u'06', u'Badajoz'], [u'07', u'Illes', u'Balears'], [u'08', u'Barcelona'], [u'09', u'Burgos'], [u'10', u'C\\xc3\\xa1ceres'], [u'11', u'C\\xc3\\xa1diz'], [u'12', u'Castell\\xc3\\xb3n'], [u'13', u'Ciudad', u'Real'], [u'14', u'C\\xc3\\xb3rdoba'], [u'15', u'Coru\\xc3\\xb1a'], [u'16', u'Cuenca'], [u'17', u'Girona'], [u'18', u'Granada'], [u'19', u'Guadalajara'], [u'20', u'Gipuzkoa'], [u'21', u'Huelva'], [u'22', u'Huesca'], [u'23', u'Ja\\xc3\\xa9n'], [u'24', u'Le\\xc3\\xb3n'], [u'25', u'Lleida'], [u'26', u'La', u'Rioja'], [u'27', u'Lugo'], [u'28', u'Madrid'], [u'29', u'M\\xc3\\xa1laga'], [u'30', u'Murcia'], [u'31', u'Navarra'], [u'32', u'Ourense'], [u'33', u'Asturias'], [u'34', u'Palencia'], [u'35', u'Las', u'Palmas'], [u'36', u'Pontevedra'], [u'37', u'Salamanca'], [u'38', u'S.C.', u'Tenerife'], [u'39', u'Cantabria'], [u'40', u'Segovia'], [u'41', u'Sevilla'], [u'42', u'Soria'], [u'43', u'Tarragona'], [u'44', u'Teruel'], [u'45', u'Toledo'], [u'46', u'Valencia'], [u'47', u'Valladolid'], [u'48', u'Bizkaia'], [u'49', u'Zamora'], [u'50', u'Zaragoza'], [u'51', u'Ceuta'], [u'52', u'Melilla']]\n",
      "********************\n",
      "Melilla\n",
      "[[u'01'], [u'Araba/\\xc3\\x81lava']]\n",
      "CoruÃ±a\n",
      "{u'30': u'Murcia', u'42': u'Soria', u'48': u'Bizkaia', u'45': u'Toledo', u'43': u'Tarragona', u'49': u'Zamora', u'52': u'Melilla', u'02': u'Albacete', u'03': u'Alicante', u'26': u'La', u'01': u'Araba/\\xc3\\x81lava', u'06': u'Badajoz', u'07': u'Illes', u'04': u'Almer\\xc3\\xada', u'05': u'\\xc3\\x81vila', u'46': u'Valencia', u'47': u'Valladolid', u'08': u'Barcelona', u'09': u'Burgos', u'28': u'Madrid', u'29': u'M\\xc3\\xa1laga', u'40': u'Segovia', u'41': u'Sevilla', u'14': u'C\\xc3\\xb3rdoba', u'51': u'Ceuta', u'24': u'Le\\xc3\\xb3n', u'25': u'Lleida', u'39': u'Cantabria', u'27': u'Lugo', u'20': u'Gipuzkoa', u'38': u'S.C.', u'21': u'Huelva', u'11': u'C\\xc3\\xa1diz', u'10': u'C\\xc3\\xa1ceres', u'13': u'Ciudad', u'12': u'Castell\\xc3\\xb3n', u'15': u'Coru\\xc3\\xb1a', u'22': u'Huesca', u'17': u'Girona', u'16': u'Cuenca', u'19': u'Guadalajara', u'18': u'Granada', u'31': u'Navarra', u'23': u'Ja\\xc3\\xa9n', u'37': u'Salamanca', u'36': u'Pontevedra', u'35': u'Las', u'34': u'Palencia', u'33': u'Asturias', u'32': u'Ourense', u'44': u'Teruel', u'50': u'Zaragoza'}\n"
     ]
    }
   ],
   "source": [
    "import codecs\n",
    "miDiccionario = {}\n",
    "miLista= [element.split(' ') for element in list_provincias]\n",
    "print(miLista)\n",
    "print '********************'\n",
    "for i in range(len(miLista)):\n",
    "    pepe = miLista[i]\n",
    "    \n",
    "    \n",
    "    miDiccionario[pepe[0]] = pepe[1]\n",
    "    \n",
    "    #final = miDiccionario.encode('utf-8')\n",
    "    \n",
    "    \n",
    "print(pepe[1])\n",
    "print(pepa)\n",
    "#print(hija)\n",
    "#print(hijo)\n",
    "print(miDiccionario['15'])\n",
    "#print(miDiccionario.key())\n",
    "#print(final)\n",
    "x = miDiccionario['15']\n",
    "#y = x.decode('utf-8')\n",
    "#print y\n",
    "print(miDiccionario)"
   ]
  },
  {
   "cell_type": "code",
   "execution_count": null,
   "metadata": {},
   "outputs": [],
   "source": []
  },
  {
   "cell_type": "code",
   "execution_count": null,
   "metadata": {},
   "outputs": [],
   "source": []
  },
  {
   "cell_type": "code",
   "execution_count": null,
   "metadata": {},
   "outputs": [],
   "source": []
  }
 ],
 "metadata": {
  "kernelspec": {
   "display_name": "Python 2",
   "language": "python",
   "name": "python2"
  },
  "language_info": {
   "codemirror_mode": {
    "name": "ipython",
    "version": 2
   },
   "file_extension": ".py",
   "mimetype": "text/x-python",
   "name": "python",
   "nbconvert_exporter": "python",
   "pygments_lexer": "ipython2",
   "version": "2.7.15"
  }
 },
 "nbformat": 4,
 "nbformat_minor": 2
}
