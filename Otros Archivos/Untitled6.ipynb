{
 "cells": [
  {
   "cell_type": "code",
   "execution_count": null,
   "metadata": {},
   "outputs": [],
   "source": [
    "import requests\n",
    "from bs4 import BeautifulSoup\n",
    "\n",
    "#Hago la peticion para recuperar los datos que contine la url\n",
    "url_analisis = 'https://www.codigospostales.com/'\n",
    "peticion = requests.get(url_analisis)\n",
    "#Necesito convertir la petición anterior en una estructura anidada para identificar la informacion de interés.\n",
    "soup = BeautifulSoup(peticion.text, 'html.parser')\n",
    "#Creo una lista con el codigo de provincia y descripcion que he localizado en \"soup\"\n",
    "list_provincias = []\n",
    "for soup.fieldset.li in soup.find_all('li'): # Bucle para leer todos los registros de interés para las siguientes operaciones.\n",
    "    provincia = soup.fieldset.li.text  # Recupero cada texto que se encuentra en la estructura con etiquetas \"fieldset\"\n",
    "                                       # seguidas de la etiqueta \"li\"\n",
    "    list_provincias.append(provincia)  # Cada registro lo añado a la lista de provincias. \n"
   ]
  }
 ],
 "metadata": {
  "kernelspec": {
   "display_name": "Python 2",
   "language": "python",
   "name": "python2"
  },
  "language_info": {
   "codemirror_mode": {
    "name": "ipython",
    "version": 2
   },
   "file_extension": ".py",
   "mimetype": "text/x-python",
   "name": "python",
   "nbconvert_exporter": "python",
   "pygments_lexer": "ipython2",
   "version": "2.7.15"
  }
 },
 "nbformat": 4,
 "nbformat_minor": 2
}
