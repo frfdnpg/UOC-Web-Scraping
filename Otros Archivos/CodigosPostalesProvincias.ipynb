{
 "cells": [
  {
   "cell_type": "code",
   "execution_count": 31,
   "metadata": {},
   "outputs": [],
   "source": [
    "import requests\n",
    "from bs4 import BeautifulSoup\n",
    "import os\n",
    "import csv\n",
    "\n",
    "class CodigosPostales():\n",
    "    \n",
    "    def __init__(self):\n",
    "        \n",
    "        self.url_analisis = 'https://www.codigospostales.com/'\n",
    "        self.list_provincias = [] # Creo una lista con el codigo de provincia y descripcion que he localizado en \"soup\"\n",
    "        self.provincias = {}  # Voy a crear un diccionario para poner como clave el codigo de la provincia y como valor la descripción.\n",
    "\n",
    "    def __descarga_provincias(self):\n",
    "        \n",
    "        # Hago la peticion para recuperar los datos que contine la url\n",
    "        self.peticion = requests.get(url_analisis)\n",
    "        return peticion\n",
    "        \n",
    "        \n",
    "    def get_provincias(self):\n",
    "        # ecesito convertir la petición anterior en una estructura anidada para identificar la informacion de interés.\n",
    "        self.__descarga_provincias(self, url_analisis)\n",
    "        slft.soup = BeautifulSoup(peticion.text, 'html.parser')\n",
    "        for soup.fieldset.li in soup.find_all('li'): # Bucle para leer todos los registros de interés para las siguientes operaciones.\n",
    "            provincia = soup.fieldset.li.text  # Recupero cada texto que se encuentra en la estructura con etiquetas \"fieldset\"\n",
    "                                               # seguidas de la etiqueta \"li\"\n",
    "            list_provincias.append(provincia)  # Cada registro lo añado a la lista de provincias. \n",
    "        # Cada elemento de la lista esta compuesto por un string que contiene el codigo de la provincia y su descripcion\n",
    "        # Voy a transformar cada elemento de \"list_provincias\" en una nueva lista compuesta por 2 elementos: codigo y descripción.\n",
    "        list_provincias2 = [element.split(' ') for element in list_provincias]\n",
    "        # Vamos a rellenar el diccionario con los valores que hay el la lista transformada \"list_provincias2\"\n",
    "        for i in range(len(list_provincias2)):\n",
    "            x = list_provincias2[i]\n",
    "            provincias[x[0]] = x[1]\n",
    "        return provincias\n",
    "        print(provincias)\n"
   ]
  },
  {
   "cell_type": "code",
   "execution_count": 30,
   "metadata": {},
   "outputs": [],
   "source": [
    "una = CodigosPostales()\n",
    "#una.get_provincias('https://www.codigospostales.com/')\n",
    "#print(una.get_provincia('https://www.codigospostales.com/'))"
   ]
  },
  {
   "cell_type": "code",
   "execution_count": null,
   "metadata": {},
   "outputs": [],
   "source": []
  }
 ],
 "metadata": {
  "kernelspec": {
   "display_name": "Python 2",
   "language": "python",
   "name": "python2"
  },
  "language_info": {
   "codemirror_mode": {
    "name": "ipython",
    "version": 2
   },
   "file_extension": ".py",
   "mimetype": "text/x-python",
   "name": "python",
   "nbconvert_exporter": "python",
   "pygments_lexer": "ipython2",
   "version": "2.7.15"
  }
 },
 "nbformat": 4,
 "nbformat_minor": 2
}
