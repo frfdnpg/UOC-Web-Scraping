{
 "cells": [
  {
   "cell_type": "code",
   "execution_count": 34,
   "metadata": {},
   "outputs": [
    {
     "name": "stdout",
     "output_type": "stream",
     "text": [
      "{u'30': u'Murcia', u'42': u'Soria', u'48': u'Bizkaia', u'45': u'Toledo', u'43': u'Tarragona', u'49': u'Zamora', u'52': u'Melilla', u'02': u'Albacete', u'03': u'Alicante', u'26': u'La', u'01': u'Araba/\\xc3\\x81lava', u'06': u'Badajoz', u'07': u'Illes', u'04': u'Almer\\xc3\\xada', u'05': u'\\xc3\\x81vila', u'46': u'Valencia', u'47': u'Valladolid', u'08': u'Barcelona', u'09': u'Burgos', u'28': u'Madrid', u'29': u'M\\xc3\\xa1laga', u'40': u'Segovia', u'41': u'Sevilla', u'14': u'C\\xc3\\xb3rdoba', u'51': u'Ceuta', u'24': u'Le\\xc3\\xb3n', u'25': u'Lleida', u'39': u'Cantabria', u'27': u'Lugo', u'20': u'Gipuzkoa', u'38': u'S.C.', u'21': u'Huelva', u'11': u'C\\xc3\\xa1diz', u'10': u'C\\xc3\\xa1ceres', u'13': u'Ciudad', u'12': u'Castell\\xc3\\xb3n', u'15': u'Coru\\xc3\\xb1a', u'22': u'Huesca', u'17': u'Girona', u'16': u'Cuenca', u'19': u'Guadalajara', u'18': u'Granada', u'31': u'Navarra', u'23': u'Ja\\xc3\\xa9n', u'37': u'Salamanca', u'36': u'Pontevedra', u'35': u'Las', u'34': u'Palencia', u'33': u'Asturias', u'32': u'Ourense', u'44': u'Teruel', u'50': u'Zaragoza'}\n",
      "/Users/frfdnpg\n",
      "/Users/frfdnpg/Provincias.txt\n"
     ]
    }
   ],
   "source": [
    "import requests\n",
    "from bs4 import BeautifulSoup\n",
    "import os\n",
    "import csv\n",
    "\n",
    "# Hago la peticion para recuperar los datos que contine la url\n",
    "url_analisis = 'https://www.codigospostales.com/'\n",
    "peticion = requests.get(url_analisis)\n",
    "# ecesito convertir la petición anterior en una estructura anidada para identificar la informacion de interés.\n",
    "soup = BeautifulSoup(peticion.text, 'html.parser')\n",
    "# Creo una lista con el codigo de provincia y descripcion que he localizado en \"soup\"\n",
    "list_provincias = []\n",
    "for soup.fieldset.li in soup.find_all('li'): # Bucle para leer todos los registros de interés para las siguientes operaciones.\n",
    "    provincia = soup.fieldset.li.text  # Recupero cada texto que se encuentra en la estructura con etiquetas \"fieldset\"\n",
    "                                       # seguidas de la etiqueta \"li\"\n",
    "    list_provincias.append(provincia)  # Cada registro lo añado a la lista de provincias. \n",
    "# Cada elemento de la lista esta compuesto por un string que contiene el codigo de la provincia y su descripcion\n",
    "# Voy a transformar cada elemento de \"list_provincias\" en una nueva lista compuesta por 2 elementos: codigo y descripción.\n",
    "list_provincias2 = [element.split(' ') for element in list_provincias]\n",
    "# Voy a crear un diccionario para poner como clave el codigo de la provincia y como valor la descripción.\n",
    "provincias = {}\n",
    "# Vamos a rellenar el diccionario con los valores que hay el la lista transformada \"list_provincias2\"\n",
    "for i in range(len(list_provincias2)):\n",
    "    x = list_provincias2[i]\n",
    "    provincias[x[0]] = x[1]\n",
    "print(provincias)\n",
    "# Escribo el diccionario en un archivo csv.\n",
    "\n",
    "currentDir = os.getcwd()\n",
    "print(currentDir)\n",
    "filename = 'Provincias.txt'\n",
    "filePath = os.path.join(currentDir, filename)\n",
    "print(filePath)\n",
    "fichero = open(filePath)\n",
    "fichero.close()\n"
   ]
  },
  {
   "cell_type": "code",
   "execution_count": null,
   "metadata": {},
   "outputs": [],
   "source": []
  },
  {
   "cell_type": "code",
   "execution_count": null,
   "metadata": {},
   "outputs": [],
   "source": []
  }
 ],
 "metadata": {
  "kernelspec": {
   "display_name": "Python 2",
   "language": "python",
   "name": "python2"
  },
  "language_info": {
   "codemirror_mode": {
    "name": "ipython",
    "version": 2
   },
   "file_extension": ".py",
   "mimetype": "text/x-python",
   "name": "python",
   "nbconvert_exporter": "python",
   "pygments_lexer": "ipython2",
   "version": "2.7.15"
  }
 },
 "nbformat": 4,
 "nbformat_minor": 2
}
